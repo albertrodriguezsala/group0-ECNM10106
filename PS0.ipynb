{
 "cells": [
  {
   "cell_type": "markdown",
   "id": "6df8f0aa",
   "metadata": {},
   "source": [
    "# Problem set 0\n",
    "\n",
    "## Exercise 1"
   ]
  },
  {
   "cell_type": "code",
   "execution_count": 1,
   "id": "88059421",
   "metadata": {
    "scrolled": true
   },
   "outputs": [
    {
     "name": "stdout",
     "output_type": "stream",
     "text": [
      "The Zen of Python, by Tim Peters\n",
      "\n",
      "Beautiful is better than ugly.\n",
      "Explicit is better than implicit.\n",
      "Simple is better than complex.\n",
      "Complex is better than complicated.\n",
      "Flat is better than nested.\n",
      "Sparse is better than dense.\n",
      "Readability counts.\n",
      "Special cases aren't special enough to break the rules.\n",
      "Although practicality beats purity.\n",
      "Errors should never pass silently.\n",
      "Unless explicitly silenced.\n",
      "In the face of ambiguity, refuse the temptation to guess.\n",
      "There should be one-- and preferably only one --obvious way to do it.\n",
      "Although that way may not be obvious at first unless you're Dutch.\n",
      "Now is better than never.\n",
      "Although never is often better than *right* now.\n",
      "If the implementation is hard to explain, it's a bad idea.\n",
      "If the implementation is easy to explain, it may be a good idea.\n",
      "Namespaces are one honking great idea -- let's do more of those!\n"
     ]
    }
   ],
   "source": [
    "import os\n",
    "#os.chdir('my folder path')\n",
    "\n",
    "\n",
    "import this"
   ]
  },
  {
   "cell_type": "markdown",
   "id": "a33dc4b5",
   "metadata": {},
   "source": [
    "In the good gooding practices we also saw that readability counts, simple is better than complex, and that breaks are necessary. \n",
    "The rest are new recommenadations!"
   ]
  },
  {
   "cell_type": "markdown",
   "id": "b9362029",
   "metadata": {},
   "source": [
    "## EX 2: Counting the number of times a word is repeated in a string."
   ]
  },
  {
   "cell_type": "code",
   "execution_count": 2,
   "id": "883bd659",
   "metadata": {},
   "outputs": [
    {
     "name": "stdout",
     "output_type": "stream",
     "text": [
      "The word wealth is repeated 4 times.\n",
      "wealth is repeated 4 times.\n",
      "distribution is repeated 3 times.\n",
      "household is repeated 2 times.\n",
      "assets is repeated 1 times.\n"
     ]
    }
   ],
   "source": [
    "str_x = '''Key facts about the distribution of wealth have been highlighted in a large number of studies,\n",
    " including Wolff (1992, 1998), Cagetti and De Nardi (2008), and Moritz and Rios-Rull (2015).\n",
    " A striking aspect of the wealth distribution in the US is its degree of concentration. \n",
    " Over the past 30 years or so, for instance, households in the top 1% of the wealth distribution have held about one-third of the total wealth in the economy, and those in the top 5% have held more than half.\n",
    " At the other extreme, more than 10% of households have little or no assets. \n",
    " While there is agreement that the share held by the richest few is very high, \n",
    " the extent to which the shares of the richest have changed over time (and why) \n",
    " is still the subject of some debate (Piketty 2014, Kopczuk 2014, Saez and Zucman 2014, and Bricker et al. 2015).'''\n",
    "\n",
    "\n",
    "cnt = str_x.count(\"wealth\") # use count method of a str class\n",
    "print('The word wealth is repeated', cnt, 'times.')\n",
    "\n",
    "# A more efficient implementation through a for-loop: remember DRY, be lazy, automate.\n",
    "list_words = ['wealth','distribution','household','assets']\n",
    "\n",
    "for word in list_words:   \n",
    "    cnt = str_x.count(word)\n",
    "    print(word,'is repeated', cnt,'times.')"
   ]
  },
  {
   "cell_type": "code",
   "execution_count": null,
   "id": "d9cc1401",
   "metadata": {},
   "outputs": [],
   "source": []
  }
 ],
 "metadata": {
  "kernelspec": {
   "display_name": "Python 3",
   "language": "python",
   "name": "python3"
  },
  "language_info": {
   "codemirror_mode": {
    "name": "ipython",
    "version": 3
   },
   "file_extension": ".py",
   "mimetype": "text/x-python",
   "name": "python",
   "nbconvert_exporter": "python",
   "pygments_lexer": "ipython3",
   "version": "3.6.12"
  }
 },
 "nbformat": 4,
 "nbformat_minor": 5
}
