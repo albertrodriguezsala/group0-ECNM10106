{
 "cells": [
  {
   "cell_type": "markdown",
   "id": "ff2d501c",
   "metadata": {},
   "source": [
    "This is a markdown cell (a text cell)\n"
   ]
  },
  {
   "cell_type": "markdown",
   "id": "c8cba343",
   "metadata": {},
   "source": [
    "#EXERCISE 1: \n",
    "compute inner product of x_vals, y_vals \n"
   ]
  },
  {
   "cell_type": "code",
   "execution_count": 1,
   "id": "8293b849",
   "metadata": {},
   "outputs": [
    {
     "name": "stdout",
     "output_type": "stream",
     "text": [
      "[20, 12, 6, 45, 0]\n"
     ]
    }
   ],
   "source": [
    "x_vals = [2,4,3,5,0]\n",
    "y_vals = [10,3,2,9,8]\n",
    "\n",
    "#SOLUTION\n",
    "inner_vals=[]\n",
    "for x,y in zip(x_vals,y_vals):   # zip for loop: loops in tandem the two lists.\n",
    "     inner=x*y\n",
    "     inner_vals.append(inner)    # appending (storing) results in a list\n",
    "print (inner_vals)"
   ]
  },
  {
   "cell_type": "code",
   "execution_count": null,
   "id": "3986b895",
   "metadata": {},
   "outputs": [],
   "source": []
  }
 ],
 "metadata": {
  "kernelspec": {
   "display_name": "Python 3",
   "language": "python",
   "name": "python3"
  },
  "language_info": {
   "codemirror_mode": {
    "name": "ipython",
    "version": 3
   },
   "file_extension": ".py",
   "mimetype": "text/x-python",
   "name": "python",
   "nbconvert_exporter": "python",
   "pygments_lexer": "ipython3",
   "version": "3.6.12"
  }
 },
 "nbformat": 4,
 "nbformat_minor": 5
}
